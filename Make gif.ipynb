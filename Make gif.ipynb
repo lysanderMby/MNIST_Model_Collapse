{
 "cells": [
  {
   "cell_type": "code",
   "execution_count": 1,
   "metadata": {},
   "outputs": [
    {
     "name": "stdout",
     "output_type": "stream",
     "text": [
      "Note: you may need to restart the kernel to use updated packages.\n"
     ]
    }
   ],
   "source": [
    "pip install pillow"
   ]
  },
  {
   "cell_type": "code",
   "execution_count": 2,
   "metadata": {},
   "outputs": [],
   "source": [
    "import os\n",
    "from PIL import Image\n",
    "import glob\n",
    "\n",
    "def create_gif_from_pngs(input_folder, output_file, duration=500):\n",
    "    # Get a list of all PNG files in the input folder\n",
    "    png_files = glob.glob(os.path.join(input_folder, \"*.png\"))\n",
    "    \n",
    "    # Sort the files by modification time (you can change this to creation time if needed)\n",
    "    png_files.sort(key=os.path.getmtime)\n",
    "    \n",
    "    # Open all PNG files\n",
    "    images = [Image.open(f) for f in png_files]\n",
    "    \n",
    "    # Save the first image as GIF and append the rest\n",
    "    images[0].save(\n",
    "        output_file,\n",
    "        save_all=True,\n",
    "        append_images=images[1:],\n",
    "        duration=duration,\n",
    "        loop=0\n",
    "    )\n",
    "\n",
    "# Example usage\n",
    "#input_folder = \"/path/to/your/png/folder\"\n",
    "#output_file = \"/path/to/output/animation.gif\"\n",
    "input_folder = \"\"\n",
    "output_file = \"animation.gif\"\n",
    "create_gif_from_pngs(input_folder, output_file)\n"
   ]
  }
 ],
 "metadata": {
  "kernelspec": {
   "display_name": "py312",
   "language": "python",
   "name": "python3"
  },
  "language_info": {
   "codemirror_mode": {
    "name": "ipython",
    "version": 3
   },
   "file_extension": ".py",
   "mimetype": "text/x-python",
   "name": "python",
   "nbconvert_exporter": "python",
   "pygments_lexer": "ipython3",
   "version": "3.12.4"
  }
 },
 "nbformat": 4,
 "nbformat_minor": 2
}
